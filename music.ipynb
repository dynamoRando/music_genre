{
 "cells": [
  {
   "cell_type": "markdown",
   "metadata": {},
   "source": [
    "# Request\n",
    "Show us a visual representation that explores danceability, popularity, and song key. Potential questions that could be asked are: What song key has the most danceability? How does popularity and song key relate? Are the most popular songs also the most danceable?\n",
    "\n",
    "# In this notebook\n",
    "- Averages\n",
    "- Min and max\n",
    "- Other plots to try and get a better understanding of the data\n",
    "- Quick conclusions\n",
    "\n",
    "# Setup\n",
    "This notebook needs the following Python libraries:\n",
    "- matplotlib\n",
    "- pandas\n",
    "- sqlite3\n",
    "- numpy\n",
    "- seaborn\n",
    "- plotly\n",
    "- kaleido\n",
    "\n",
    "In the section after comments is a cell you may run to bring these libraries in named \"Configure\". \n",
    "\n",
    "Note - as I discovered, plotly charts can't be rendered on GitHub. The workaround is to render plotly graphs to png or some other static format.\n",
    "\n",
    "# Comments\n",
    "Most of what I've done code wise could be simplified with using dataframes exclusively. I've leveraged SQL mostly because of my experience with it, but I believe much of what I could written, if I had a little more time, could be refactored and simplified. \n",
    "\n",
    "This was my first exposure to leveraging seaborn and matplotlib, so I enjoyed the opportunity to learn about these as I went along with this assignment. Much of what was done here I learned from Youtube and observing other work on Kaggle.com, and could also be simplified or enhanced (adding color graphs/heat maps to tables for example) if I could spend more time reviewing the documentation.\n",
    "\n",
    "The graphs and tables in this notebook were done on a wide-screen monitor - some of the code may need to be adjusted to view on other resolutions.\n"
   ]
  },
  {
   "cell_type": "markdown",
   "metadata": {},
   "source": [
    "# Configure\n",
    "Uncomment and run the following section only if you don't have the libaries already installed."
   ]
  },
  {
   "cell_type": "code",
   "execution_count": 1,
   "metadata": {},
   "outputs": [],
   "source": [
    "# %pip install matplotlib\n",
    "# %pip install pandas\n",
    "# %pip install numpy\n",
    "# %pip install seaborn\n",
    "# %pip install plotly\n",
    "# note - sqlite3 should be included by default, otherwise un-comment and run the line below\n",
    "# %pip install pysqlite\n",
    "# %pip install kaleido\n"
   ]
  },
  {
   "cell_type": "markdown",
   "metadata": {},
   "source": [
    "\n",
    "### Averages\n",
    "\n",
    "#### Approach\n",
    "\n",
    " - Load data from \"music_genre.csv\" in folder using pandas. \n",
    " - Save the data frame back to SQLite for convenience. \n",
    "    - Note that when we pull data out of sqlite we're normalizing popularity to make it easier to chart (trying to get the value between 0 and 1).\n",
    " - Plot items using pyplot from matlab and others.\n",
    " - Output to tables, coloring max/min values if possible. Alternatively, be explicit about min/max values, etc."
   ]
  },
  {
   "cell_type": "code",
   "execution_count": 2,
   "metadata": {},
   "outputs": [],
   "source": [
    "import matplotlib.pyplot as plt\n",
    "import plotly.express as ex\n",
    "import plotly.graph_objs as go\n",
    "import pandas as pd\n",
    "import sqlite3\n",
    "import numpy as np\n",
    "from plotly.subplots import make_subplots\n",
    "\n",
    "# read csv\n",
    "data = pd.read_csv('music_genre.csv')\n",
    "\n",
    "# sort the data by key\n",
    "# I would like to revisit this approach as there may be a better way to do this without duplicating the data\n",
    "plot_data = data.sort_values(by='key')\n",
    "\n",
    "# create an in-memory sqlite database and save the data frame to it\n",
    "# used to using sql, although we can use sql against dataframes as well\n",
    "conn = sqlite3.connect(\":memory:\")\n",
    "data.to_sql(name='music', con=conn)\n",
    "\n",
    "# get the average by key\n",
    "# we multiply the popularity by 0.01 to try and normalize (produce a value between 0 and 1)\n",
    "query = \"\"\"SELECT \n",
    "                key,\n",
    "                ROUND(AVG(danceability), 3) avg_dance, \n",
    "                ROUND(AVG(popularity) * 0.01, 3) avg_pop\n",
    "            FROM \n",
    "                music\n",
    "            WHERE\n",
    "                danceability IS NOT NULL\n",
    "            AND\n",
    "                popularity IS NOT NULL                 \n",
    "            GROUP BY \n",
    "                key\"\"\"\n",
    "\n",
    "data_avg = pd.read_sql(query, conn)\n"
   ]
  },
  {
   "cell_type": "code",
   "execution_count": 3,
   "metadata": {},
   "outputs": [],
   "source": [
    "# split these into two different data frames for plotting in table\n",
    "data_avg_dance = data_avg.drop(columns='avg_pop', axis=1)\n",
    "data_avg_pop = data_avg.drop(columns='avg_dance', axis=1)\n",
    "\n",
    "color_dance = ['rgb(40,40,40)', ['rgb(255,0,0)' if v == data_avg['avg_dance'].min(\n",
    ") or v == data_avg['avg_dance'].max() else 'rgb(10,10,10)' for v in data_avg['avg_dance'].tolist()]]\n",
    "color_pop = ['rgb(40,40,40)', ['rgb(255,0,0)' if v == data_avg['avg_pop'].min(\n",
    ") or v == data_avg['avg_pop'].max() else 'rgb(10,10,10)' for v in data_avg['avg_pop'].tolist()]]\n",
    "\n",
    "# https://community.plotly.com/t/conditional-formatting-for-table/27877/2\n",
    "\n",
    "# make two plots, 1 row, but with 2 columns, both which will have tables\n",
    "fig = make_subplots(rows=1, cols=2, specs=[\n",
    "                    [{\"type\": \"table\"}, {\"type\": \"table\"}]])\n",
    "\n",
    "# plot the first table for danceability\n",
    "table_dance = go.Table(\n",
    "    header=dict(\n",
    "        values=['Key', 'Average Danceability'],\n",
    "        line=dict(color='rgb(50,50,50)'),\n",
    "        align=['left']*2,\n",
    "        font=dict(color=['rgb(45,45,45)']*2, size=12),\n",
    "    ),\n",
    "    cells=dict(values=data_avg_dance.T.values,\n",
    "               line=dict(color='#506784'),\n",
    "               align=['left']*5,\n",
    "               font=dict(family=\"Arial\", size=12, color=color_dance),\n",
    "               format=[None, \",.3f\"],\n",
    "               fill=dict(color='rgb(245,245,245)'))\n",
    ")\n",
    "\n",
    "# plot the second table for popularity\n",
    "table_pop = go.Table(\n",
    "    header=dict(\n",
    "        values=['Key', 'Average Popularity'],\n",
    "        line=dict(color='rgb(50,50,50)'),\n",
    "        align=['left']*2,\n",
    "        font=dict(color=['rgb(45,45,45)']*2, size=12),\n",
    "    ),\n",
    "    cells=dict(values=data_avg_pop.T.values,\n",
    "               line=dict(color='#506784'),\n",
    "               align=['left']*5,\n",
    "               font=dict(family=\"Arial\", size=12, color=color_pop),\n",
    "               format=[None, \",.3f\"],\n",
    "               fill=dict(color='rgb(245,245,245)'))\n",
    ")\n",
    "\n",
    "fig = fig.add_trace(table_dance, row=1, col=1)\n",
    "fig = fig.add_trace(table_pop, row=1, col=2)\n",
    "fig.show(\"png\")\n",
    "# fig.write_html(\"avg_table.html\",include_plotlyjs='cdn')\n",
    "\n",
    "# output some quick observations\n",
    "print(\"Observations about Danceability:\")\n",
    "print('The minimum average dance value is: ', str(data_avg['avg_dance'].min(\n",
    ")), 'by key ', data_avg.loc[data_avg['avg_dance'] == data_avg['avg_dance'].min()]['key'].to_string(index=False))\n",
    "print('The maximum average dance value is: ', str(data_avg['avg_dance'].max(\n",
    ")), 'by key ', data_avg.loc[data_avg['avg_dance'] == data_avg['avg_dance'].max()]['key'].to_string(index=False))\n",
    "print(\"Observations about Popularity:\")\n",
    "print('The minimum average pop value is: ', str(data_avg['avg_pop'].min(\n",
    ")), 'by key ', data_avg.loc[data_avg['avg_pop'] == data_avg['avg_pop'].min()]['key'].to_string(index=False))\n",
    "print('The maximum average pop value is: ', str(data_avg['avg_pop'].max(\n",
    ")), 'by key ', data_avg.loc[data_avg['avg_pop'] == data_avg['avg_pop'].max()]['key'].to_string(index=False))\n",
    "\n",
    "# plot both against each other\n",
    "# https://datascienceparichay.com/article/plot-a-line-chart-in-python-with-matplotlib/\n",
    "# not sure if a line graph is the best visual here, because we're not doing changes over time\n",
    "plt.plot(data_avg['key'].tolist(), data_avg['avg_pop'].tolist())\n",
    "plt.plot(data_avg['key'].tolist(), data_avg['avg_dance'].tolist())\n",
    "plt.xlabel(\"Key\")\n",
    "plt.ylabel(\"Avg Danceability and Popularity\")\n",
    "plt.legend([\"Pop\", \"Dance\"])\n",
    "plt.show()\n"
   ]
  },
  {
   "cell_type": "markdown",
   "metadata": {},
   "source": [
    "#### Quick observation\n",
    "It appears the max average danceability and popularity are the highest for songs in the key C#, and lowest for the key of D#\n",
    "\n"
   ]
  },
  {
   "cell_type": "markdown",
   "metadata": {},
   "source": [
    "#### Quick Sanity Check\n",
    "Use data frame to also view averages -"
   ]
  },
  {
   "cell_type": "code",
   "execution_count": null,
   "metadata": {},
   "outputs": [],
   "source": [
    "# sanity checks against SQL\n",
    "print('danceability averages by key')\n",
    "print(data.groupby('key')['danceability'].mean())\n",
    "print('popularity averages by key')\n",
    "print(data.groupby('key')['popularity'].mean())\n"
   ]
  },
  {
   "cell_type": "markdown",
   "metadata": {},
   "source": [
    "It appears that our code seems to match what data frames is also reporting."
   ]
  },
  {
   "cell_type": "markdown",
   "metadata": {},
   "source": [
    "### Min / Max"
   ]
  },
  {
   "cell_type": "code",
   "execution_count": null,
   "metadata": {},
   "outputs": [],
   "source": [
    "import pandas as pd\n",
    "import matplotlib.pyplot as plt\n",
    "\n",
    "# grab danceability, popularity, and key from the table we just created in SQL\n",
    "# we likely can also do this using dataframes exclusively\n",
    "query = \"\"\"\n",
    "        SELECT \n",
    "            key,\n",
    "            ROUND(MIN(danceability), 3) min_dance, \n",
    "            ROUND(MAX(danceability), 3) max_dance, \n",
    "            ROUND(MIN(popularity), 3) min_pop, \n",
    "            ROUND(MAX(popularity) * 0.01, 3) max_pop\n",
    "        FROM \n",
    "            music\n",
    "        WHERE\n",
    "            danceability IS NOT NULL\n",
    "        AND\n",
    "            popularity IS NOT NULL                     \n",
    "        GROUP BY \n",
    "            key\"\"\"\n",
    "\n",
    "# print(pd.read_sql_query(query, conn))\n",
    "df = pd.read_sql(query, conn)\n",
    "\n",
    "# https://community.plotly.com/t/conditional-formatting-for-table/27877\n",
    "# appears to be a bug in the color formatting if you specify a height, doesn't color the correct cell\n",
    "color_min_max = [\n",
    "    'rgb(40,40,40)',\n",
    "    ['rgb(255,0,0)' if a == df['min_dance'].min() or a == df['min_dance'].max(\n",
    "    ) else 'rgb(10,10,10)' for a in df['min_dance'].tolist()],\n",
    "    ['rgb(255,0,0)' if b == df['max_dance'].min() or b == df['max_dance'].max(\n",
    "    ) else 'rgb(10,10,10)' for b in df['max_dance'].tolist()],\n",
    "    ['rgb(255,0,0)' if c == df['min_pop'].min() or c == df['min_pop'].max()\n",
    "     else 'rgb(10,10,10)' for c in df['min_pop'].tolist()],\n",
    "    ['rgb(255,0,0)' if d == df['max_pop'].min() or d == df['max_pop'].max()\n",
    "     else 'rgb(10,10,10)' for d in df['max_pop'].tolist()]\n",
    "]\n",
    "\n",
    "table_min_max = go.Table(\n",
    "    header=dict(values=df.columns,\n",
    "                line=dict(color='rgb(50,50,50)'),\n",
    "                align=['left']*2,\n",
    "                font=dict(color=['rgb(45,45,45)']*2, size=12),\n",
    "                ),\n",
    "    cells=dict(values=df.T.values,\n",
    "               line=dict(color='#506784'),\n",
    "               align=['left']*5,\n",
    "               font=dict(family=\"Arial\", size=12, color=color_min_max),\n",
    "               format=[None, \",.3f\"],\n",
    "               fill=dict(color='rgb(245,245,245)'))\n",
    ")\n",
    "\n",
    "fig = go.Figure(data=table_min_max)\n",
    "fig.show(\"png\")\n",
    "#fig.write_html(\"minmax_table.html\",include_plotlyjs='cdn')\n",
    "\n",
    "\n",
    "# https://www.statology.org/matplotlib-table/\n",
    "#fig, ax = plt.subplots()\n",
    "# fig.patch.set_visible(False)\n",
    "# ax.axis('off')\n",
    "# ax.axis('tight')\n",
    "\n",
    "#table = ax.table(cellText=df.values, colLabels=df.columns, loc='center')\n",
    "# table.set_fontsize(20)\n",
    "#table.scale(2, 2)\n",
    "# plt.show()\n",
    "\n",
    "plt.plot(df['key'].tolist(), df['min_dance'].tolist())\n",
    "plt.plot(df['key'].tolist(), df['max_dance'].tolist())\n",
    "plt.plot(df['key'].tolist(), df['max_pop'].tolist())\n",
    "plt.xlabel(\"Key\")\n",
    "plt.ylabel(\"Min, Max Dance and Max Pop\")\n",
    "plt.legend([\"Min Dance\", \"Max Dance\", \"Max Pop\"])\n",
    "plt.show()\n"
   ]
  },
  {
   "cell_type": "markdown",
   "metadata": {},
   "source": [
    "#### Quick Observation\n",
    "It appears the highest popular song is in the key of B. The lowest popular song is in the key of F#.\n",
    "\n",
    "It's not easy to tell from this graph, but it appears the highest dancable song is in the key of G#, while the highest lowest dancable song is in the key of D#. \n",
    "\n",
    "It also appears to be consistent that regardless of key, you can always have a song in a key that isn't very danceable."
   ]
  },
  {
   "cell_type": "markdown",
   "metadata": {},
   "source": [
    "### Other Plots\n",
    "\n",
    "Plots as reviewed from the original [dataset](https://www.kaggle.com/datasets/vicsuperman/prediction-of-music-genre) on Kaggle. Example [here](https://www.kaggle.com/code/ayalaco/comprehensive-eda-class-consolidation-and-svm).\n",
    "\n",
    "I wanted to try and play around with other visuals to get a better sense of the data, so this is that attempt."
   ]
  },
  {
   "cell_type": "markdown",
   "metadata": {},
   "source": [
    "##### Popularity"
   ]
  },
  {
   "cell_type": "code",
   "execution_count": null,
   "metadata": {},
   "outputs": [],
   "source": [
    "import seaborn as sns\n",
    "sns.set(rc={\"figure.figsize\": (15, 10)})  # width, #height\n",
    "sns.boxplot(x=plot_data['key'], y=plot_data['popularity'], data=plot_data)\n"
   ]
  },
  {
   "cell_type": "markdown",
   "metadata": {},
   "source": [
    "Looking at the above boxplot, it appears that this reinforces that on average, songs in the key of C# have the highest popularity, and on average, the lowest is in the key of D# (looking at the median line).\n",
    "\n",
    "We also can see that there's an outlier for a song in key of B being the highest popular song in the data."
   ]
  },
  {
   "cell_type": "code",
   "execution_count": null,
   "metadata": {},
   "outputs": [],
   "source": [
    "sns.scatterplot(x=plot_data['key'], y=plot_data['popularity'], data=plot_data)\n"
   ]
  },
  {
   "cell_type": "markdown",
   "metadata": {},
   "source": [
    "The scatter plot above doesn't show much other insights, but it does reinforce that there was an outlier for popularity in the key of B."
   ]
  },
  {
   "cell_type": "code",
   "execution_count": null,
   "metadata": {},
   "outputs": [],
   "source": [
    "plot_data.groupby('key')['popularity'].plot.kde()\n",
    "plt.legend()\n",
    "plt.show()\n"
   ]
  },
  {
   "cell_type": "markdown",
   "metadata": {},
   "source": [
    "##### Danceability"
   ]
  },
  {
   "cell_type": "code",
   "execution_count": null,
   "metadata": {},
   "outputs": [],
   "source": [
    "import seaborn as sns\n",
    "sns.set(rc={\"figure.figsize\": (15, 10)})  # width, #height\n",
    "sns.boxplot(x=plot_data['key'], y=plot_data['danceability'], data=plot_data)\n"
   ]
  },
  {
   "cell_type": "markdown",
   "metadata": {},
   "source": [
    "This boxplot also reinforces that the most popular songs on average appear to be in the key of C#, and again, the lowest popular songs on average are in the key of D#."
   ]
  },
  {
   "cell_type": "code",
   "execution_count": null,
   "metadata": {},
   "outputs": [],
   "source": [
    "sns.scatterplot(x=plot_data['key'],\n",
    "                y=plot_data['danceability'], data=plot_data)\n"
   ]
  },
  {
   "cell_type": "markdown",
   "metadata": {},
   "source": [
    "This scatter plot doesn't reveal much other than that there are some outliers scoring low for songs in the key of F#. This is also supported by the previous boxplot."
   ]
  },
  {
   "cell_type": "code",
   "execution_count": null,
   "metadata": {},
   "outputs": [],
   "source": [
    "plot_data.groupby('key')['danceability'].plot.kde()\n",
    "plt.legend()\n",
    "plt.show()\n"
   ]
  },
  {
   "cell_type": "markdown",
   "metadata": {},
   "source": [
    "# Initial Conclusions\n",
    "\n",
    "It would appear that there's a strong correlation between songs that are popular and danceable. It would also appear that if an artist wanted to try and write a popular song that people could dance to, it might make sense to write it in the key of C#."
   ]
  }
 ],
 "metadata": {
  "interpreter": {
   "hash": "aee8b7b246df8f9039afb4144a1f6fd8d2ca17a180786b69acc140d282b71a49"
  },
  "kernelspec": {
   "display_name": "Python 3.10.4 64-bit",
   "language": "python",
   "name": "python3"
  },
  "language_info": {
   "codemirror_mode": {
    "name": "ipython",
    "version": 3
   },
   "file_extension": ".py",
   "mimetype": "text/x-python",
   "name": "python",
   "nbconvert_exporter": "python",
   "pygments_lexer": "ipython3",
   "version": "3.10.4"
  },
  "orig_nbformat": 4
 },
 "nbformat": 4,
 "nbformat_minor": 2
}
