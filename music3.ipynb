{
 "cells": [
  {
   "cell_type": "markdown",
   "metadata": {},
   "source": [
    "# Initial Setup\n",
    "Load data from \"music_genre.csv\" in folder using pandas. Save the data frame back to SQLite; leveraging mostly SQL for analysis. Plot items using pyplot from matlab."
   ]
  },
  {
   "cell_type": "code",
   "execution_count": 24,
   "metadata": {},
   "outputs": [],
   "source": [
    "import matplotlib.pyplot as plt\n",
    "import pandas as pd\n",
    "import sqlite3\n",
    "\n",
    "# read csv\n",
    "music_genre = pd.read_csv('music_genre.csv')\n",
    "\n",
    "# create an in-memory sqlite database and save the data frame to it\n",
    "conn = sqlite3.connect(\":memory:\")\n",
    "music_genre.to_sql(name='music', con=conn)\n",
    "cur = conn.cursor()\n",
    "\n",
    "# grab danceability, popularity, and key from the table we just created\n",
    "cur.execute('SELECT danceability, popularity, key FROM music')\n",
    "result = cur.fetchall()\n",
    "\n",
    "danceability = []\n",
    "popularity = []\n",
    "song_key = []\n",
    "\n",
    "# iterate over the rows return and account for NULLs in the results\n",
    "for row in result:\n",
    "    item_dancebility = row[0]\n",
    "    if item_dancebility is None:\n",
    "        danceability.append(0)\n",
    "    else: \n",
    "        danceability.append(item_dancebility)\n",
    "    item_pop = row[1]    \n",
    "    if item_pop is None:\n",
    "        popularity.append(0)\n",
    "    else:\n",
    "        popularity.append(item_pop)\n",
    "    item_key = row[2]\n",
    "    if item_key is None:\n",
    "        song_key.append(\"?\")\n",
    "    else:\n",
    "        song_key.append(item_key)"
   ]
  },
  {
   "cell_type": "markdown",
   "metadata": {},
   "source": [
    "# Danceability versus Song Key\n"
   ]
  },
  {
   "cell_type": "code",
   "execution_count": 29,
   "metadata": {},
   "outputs": [
    {
     "data": {
      "image/png": "[encoded data removed]",
      "text/plain": [
       "<Figure size 432x288 with 1 Axes>"
      ]
     },
     "metadata": {
      "needs_background": "light"
     },
     "output_type": "display_data"
    }
   ],
   "source": [
    "plt.bar(song_key, danceability)\n",
    "plt.show()"
   ]
  },
  {
   "cell_type": "markdown",
   "metadata": {},
   "source": [
    "# Popularity versus Song Key\n"
   ]
  },
  {
   "cell_type": "code",
   "execution_count": 25,
   "metadata": {},
   "outputs": [
    {
     "data": {
      "image/png": "[encoded data removed]",
      "text/plain": [
       "<Figure size 432x288 with 1 Axes>"
      ]
     },
     "metadata": {
      "needs_background": "light"
     },
     "output_type": "display_data"
    }
   ],
   "source": [
    "plt.bar(song_key, popularity)\n",
    "plt.show()"
   ]
  }
 ],
 "metadata": {
  "interpreter": {
   "hash": "aee8b7b246df8f9039afb4144a1f6fd8d2ca17a180786b69acc140d282b71a49"
  },
  "kernelspec": {
   "display_name": "Python 3.10.4 64-bit",
   "language": "python",
   "name": "python3"
  },
  "language_info": {
   "codemirror_mode": {
    "name": "ipython",
    "version": 3
   },
   "file_extension": ".py",
   "mimetype": "text/x-python",
   "name": "python",
   "nbconvert_exporter": "python",
   "pygments_lexer": "ipython3",
   "version": "3.10.4"
  },
  "orig_nbformat": 4
 },
 "nbformat": 4,
 "nbformat_minor": 2
}
