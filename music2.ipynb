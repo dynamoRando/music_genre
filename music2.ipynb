{
 "cells": [
  {
   "cell_type": "markdown",
   "metadata": {},
   "source": [
    "# Initial Setup\n",
    "Load data from \"music_genre.csv\" in folder using pandas. Save the data frame back to SQLite; leveraging mostly SQL for analysis. Plot items using pyplot from matlab."
   ]
  },
  {
   "cell_type": "code",
   "execution_count": 10,
   "metadata": {},
   "outputs": [],
   "source": [
    "import matplotlib.pyplot as plt\n",
    "import pandas as pd\n",
    "import sqlite3\n",
    "import numpy as np\n",
    "\n",
    "# read csv\n",
    "music_genre = pd.read_csv('music_genre.csv')\n",
    "\n",
    "# create an in-memory sqlite database and save the data frame to it\n",
    "conn = sqlite3.connect(\":memory:\")\n",
    "music_genre.to_sql(name='music', con=conn)\n",
    "cur = conn.cursor()\n",
    "\n",
    "# grab average danceability, popularity, and key from the table we just created\n",
    "cur.execute('SELECT AVG(danceability) danceability, AVG(popularity) popularity, key FROM music GROUP BY key')\n",
    "avg_result = cur.fetchall()\n",
    "\n",
    "avg_danceability = []\n",
    "avg_popularity = []\n",
    "avg_song_key = []\n",
    "\n",
    "# iterate over the rows return and account for NULLs in the results\n",
    "for row in avg_result:\n",
    "    item_dancebility = row[0]\n",
    "    if item_dancebility is None:\n",
    "        avg_danceability.append(0)\n",
    "    else: \n",
    "        avg_danceability.append(item_dancebility)\n",
    "    item_pop = row[1]    \n",
    "    if item_pop is None:\n",
    "        avg_popularity.append(0)\n",
    "    else:\n",
    "        avg_popularity.append(item_pop)\n",
    "    item_key = row[2]\n",
    "    if item_key is None:\n",
    "        avg_song_key.append(\"?\")\n",
    "    else:\n",
    "        avg_song_key.append(item_key)"
   ]
  },
  {
   "cell_type": "markdown",
   "metadata": {},
   "source": [
    "# Average Danceability versus Song Key"
   ]
  },
  {
   "cell_type": "code",
   "execution_count": 5,
   "metadata": {},
   "outputs": [
    {
     "data": {
      "image/png": "[encoded data removed]",
      "text/plain": [
       "<Figure size 432x288 with 1 Axes>"
      ]
     },
     "metadata": {
      "needs_background": "light"
     },
     "output_type": "display_data"
    }
   ],
   "source": [
    "plt.bar(avg_song_key, avg_danceability)\n",
    "plt.show()"
   ]
  },
  {
   "cell_type": "markdown",
   "metadata": {},
   "source": [
    "# Average Popularity versus Song Key\n"
   ]
  },
  {
   "cell_type": "code",
   "execution_count": 6,
   "metadata": {},
   "outputs": [
    {
     "data": {
      "image/png": "[encoded data removed]",
      "text/plain": [
       "<Figure size 432x288 with 1 Axes>"
      ]
     },
     "metadata": {
      "needs_background": "light"
     },
     "output_type": "display_data"
    }
   ],
   "source": [
    "plt.bar(avg_song_key, avg_popularity)\n",
    "plt.show()"
   ]
  },
  {
   "cell_type": "markdown",
   "metadata": {},
   "source": [
    "# Breakdown by Key\n",
    "Looking at min, max, and average for every key."
   ]
  },
  {
   "cell_type": "markdown",
   "metadata": {},
   "source": [
    "## Code"
   ]
  },
  {
   "cell_type": "code",
   "execution_count": 11,
   "metadata": {},
   "outputs": [
    {
     "name": "stdout",
     "output_type": "stream",
     "text": [
      "Min danceability for Key A: 0.06\n",
      "Min danceability for Key A: 0.971\n"
     ]
    }
   ],
   "source": [
    "# grab danceability, popularity, and key from the table we just created\n",
    "cur.execute(\"SELECT MIN(danceability) min_dance, MAX(danceability) max_dance, MIN(popularity) min_pop, MAX(popularity) max_pop, key FROM music GROUP BY key\")\n",
    "result = cur.fetchall()\n",
    "\n",
    "min_dance = []\n",
    "max_dance = []\n",
    "min_pop = []\n",
    "max_pop = []\n",
    "song_key = []\n",
    "\n",
    "# iterate over the rows return and account for NULLs in the results\n",
    "for row in result:\n",
    "    i_min_dance = row[0]\n",
    "    if i_min_dance is not None:\n",
    "        min_dance.append(i_min_dance)\n",
    "    i_max_dance = row[1]    \n",
    "    if i_max_dance is not None:\n",
    "        max_dance.append(i_max_dance)\n",
    "    item_key = row[2]\n",
    "    if item_key is None:\n",
    "        song_key.append(\"?\")\n",
    "    else:\n",
    "        song_key.append(item_key)\n",
    "\n",
    "min_dance = min(danceability)\n",
    "max_dance = max(danceability)\n",
    "\n",
    "print(\"Min danceability for Key A:\", min_dance)\n",
    "print(\"Min danceability for Key A:\", max_dance)\n"
   ]
  }
 ],
 "metadata": {
  "interpreter": {
   "hash": "aee8b7b246df8f9039afb4144a1f6fd8d2ca17a180786b69acc140d282b71a49"
  },
  "kernelspec": {
   "display_name": "Python 3.10.4 64-bit",
   "language": "python",
   "name": "python3"
  },
  "language_info": {
   "codemirror_mode": {
    "name": "ipython",
    "version": 3
   },
   "file_extension": ".py",
   "mimetype": "text/x-python",
   "name": "python",
   "nbconvert_exporter": "python",
   "pygments_lexer": "ipython3",
   "version": "3.10.4"
  },
  "orig_nbformat": 4
 },
 "nbformat": 4,
 "nbformat_minor": 2
}
